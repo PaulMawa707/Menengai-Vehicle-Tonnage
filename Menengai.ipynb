{
 "cells": [
  {
   "cell_type": "code",
   "execution_count": null,
   "id": "0b2da870",
   "metadata": {},
   "outputs": [
    {
     "name": "stdout",
     "output_type": "stream",
     "text": [
      "Logged in successfully, SID: 10befacfd30a9c6ba22246219cb65eae\n",
      "Order Response: [662, {'id': 662, 'n': 'Twende Westlands', 'f': 1, 'tf': 1744797600, 'tt': 1744819200, 'trt': 600, 'uid': 146325240878818, 'r': 100, 'y': -1.26849997044, 'x': 36.817199707, 'u': 0, 's': 0, 'sf': 0, 'crt': 0, 'st': 0, 'cnm': 0, 'if': 0, 'nt': 0, 'stt': 0, 'dtt': 0, 'eta': 0, 'rd': 0, 'ds': 0, 'ct': 1744703018, 'mt': 1744703018, 'p': {'a': 'Westlands, Nairobi, Kenya', 'aff': '123,456', 'c': 15000, 'cid': 'CUST5678', 'cm': 'Handle with care', 'd': 'Delivery of office supplies', 'e': 'james.mwangi@example.com', 'n': 'James Mwangi', 'ntf': 3, 'p': '+254712345678', 'p2': '+254798765432', 'pr': 1, 't': 'Lorry', 'uic': 'INV20240319', 'ut': 1800, 'v': 50, 'w': 20, 'z': '1001_2002'}, 'ej': {}, 'dp': [], 'tz': 3, 'cf': {'delivery_notes': 'Deliver before noon', 'payment_status': 'Pending'}, 'cmp': {}, 'gfn': {}, 'rp': 'Main Route - CBD to Westlands', 'files': {}}]\n"
     ]
    }
   ],
   "source": [
    "import requests\n",
    "import json\n",
    "\n",
    "# Step 1: Login to get the session ID (sid)\n",
    "login_url = \"https://hst-api.wialon.com/wialon/ajax.html\"\n",
    "login_params = {\n",
    "    \"svc\": \"token/login\",\n",
    "    \"params\": json.dumps({\n",
    "        \"token\": \"47b7b37d939f2d44f52ddf671a0ec4f07E5A979B8DF4980F638A6C7CB6DF5414B5D5CE15\"\n",
    "    })\n",
    "}\n",
    "\n",
    "login_response = requests.get(login_url, params=login_params)\n",
    "login_data = login_response.json()\n",
    "\n",
    "if 'eid' not in login_data:\n",
    "    print(\"Login failed:\", login_data)\n",
    "    exit()\n",
    "\n",
    "sid = login_data['eid']\n",
    "print(\"Logged in successfully, SID:\", sid)\n",
    "\n",
    "# Step 2: Push order using the SID\n",
    "order_url = f\"https://hst-api.wialon.com/wialon/ajax.html?sid={sid}\"\n",
    "order_params = {\n",
    "    \"svc\": \"order/update\",\n",
    "    \"params\": json.dumps({\n",
    "        \"itemId\": 25601229,\n",
    "        \"id\": 0,\n",
    "        \"n\": \"Delivery to Westlands\",\n",
    "        \"oldOrderId\": 0,\n",
    "        \"oldOrderFiles\": [],\n",
    "        \"p\": {\n",
    "            \"n\": \"James Mwangi\",\n",
    "            \"p\": \"+254712345678\",\n",
    "            \"p2\": \"+254798765432\",\n",
    "            \"e\": \"james.mwangi@example.com\",\n",
    "            \"a\": \"Westlands, Nairobi, Kenya\",\n",
    "            \"v\": 50,\n",
    "            \"w\": 20,\n",
    "            \"c\": 15000,\n",
    "            \"ut\": 1800,\n",
    "            \"t\": \"Lorry\",\n",
    "            \"d\": \"Delivery of office supplies\",\n",
    "            \"uic\": \"INV20240319\",\n",
    "            \"cid\": \"CUST5678\",\n",
    "            \"cm\": \"Handle with care\",\n",
    "            \"aff\": \"123,456\",\n",
    "            \"z\": \"1001_2002\",\n",
    "            \"ntf\": 3,\n",
    "            \"pr\": 1\n",
    "        },\n",
    "        \"rp\": \"Main Route - CBD to Westlands\",\n",
    "        \"f\": 1,\n",
    "        \"tf\": 1744797600,\n",
    "        \"tt\": 1744819200,\n",
    "        \"trt\": 600,\n",
    "        \"r\": 100,\n",
    "        \"y\": -1.2685,\n",
    "        \"x\": 36.8172,\n",
    "        \"ej\": {},\n",
    "        \"tz\": 3,\n",
    "        \"cf\": {\n",
    "            \"delivery_notes\": \"Deliver before noon\",\n",
    "            \"payment_status\": \"Pending\"\n",
    "        },\n",
    "        \"callMode\": \"create\",\n",
    "        \"dp\": []\n",
    "    })\n",
    "}\n",
    "\n",
    "order_response = requests.get(order_url, params=order_params)\n",
    "print(\"Order Response:\", order_response.json())\n"
   ]
  },
  {
   "cell_type": "code",
   "execution_count": null,
   "id": "5f19b36b",
   "metadata": {},
   "outputs": [],
   "source": []
  }
 ],
 "metadata": {
  "kernelspec": {
   "display_name": "Python 3",
   "language": "python",
   "name": "python3"
  },
  "language_info": {
   "codemirror_mode": {
    "name": "ipython",
    "version": 3
   },
   "file_extension": ".py",
   "mimetype": "text/x-python",
   "name": "python",
   "nbconvert_exporter": "python",
   "pygments_lexer": "ipython3",
   "version": "3.11.9"
  }
 },
 "nbformat": 4,
 "nbformat_minor": 5
}
